{
  "cells": [
    {
      "cell_type": "markdown",
      "metadata": {},
      "source": [
        "Install prequisite packages"
      ]
    },
    {
      "cell_type": "code",
      "execution_count": null,
      "metadata": {
        "jupyter": {
          "outputs_hidden": false,
          "source_hidden": false
        },
        "nteract": {
          "transient": {
            "deleting": false
          }
        }
      },
      "outputs": [],
      "source": [
        "!pip install --upgrade azureml-sdk opencv-contrib-python"
      ]
    },
    {
      "cell_type": "code",
      "execution_count": null,
      "metadata": {
        "gather": {
          "logged": 1645040147410
        },
        "jupyter": {
          "outputs_hidden": false,
          "source_hidden": false
        },
        "nteract": {
          "transient": {
            "deleting": false
          }
        }
      },
      "outputs": [],
      "source": [
        "import azureml.core\n",
        "\n",
        "print(\"This notebook was created using version 1.35.0 of the Azure ML SDK.\")\n",
        "print(\"You are currently using version\", azureml.core.VERSION, \"of the Azure ML SDK.\")\n",
        "assert (\n",
        "    azureml.core.VERSION >= \"1.35\"\n",
        "), \"Please upgrade the Azure ML SDK by running '!pip install --upgrade azureml-sdk' then restart the kernel.\""
      ]
    },
    {
      "cell_type": "code",
      "execution_count": null,
      "metadata": {},
      "outputs": [],
      "source": [
        "!pip install azure-core azure-storage-blob azure-storage-file-datalake==12.5.0 "
      ]
    },
    {
      "cell_type": "code",
      "execution_count": null,
      "metadata": {
        "gather": {
          "logged": 1645040372144
        }
      },
      "outputs": [],
      "source": [
        "import os\n",
        "import time\n",
        "import numpy as np\n",
        "import cv2\n",
        "from PIL import Image\n",
        "from datetime import datetime\n",
        "# from azure.storage.filedatalake._models import ContentSettings\n",
        "# from azure.storage.filedatalake import DataLakeServiceClient\n",
        "from azure.storage.blob import BlobServiceClient, ContainerClient, BlobClient \n",
        "from azure.core.exceptions import ResourceExistsError"
      ]
    },
    {
      "cell_type": "code",
      "execution_count": null,
      "metadata": {
        "gather": {
          "logged": 1645040374543
        }
      },
      "outputs": [],
      "source": [
        "# Variable inputs\n",
        "file_name = \"your file name\"\n",
        "file_path = \"your_path_to_file\"\n",
        "full_file_path = os.path.join(file_path, file_name)\n",
        "frame_count = 0"
      ]
    },
    {
      "cell_type": "code",
      "execution_count": null,
      "metadata": {
        "gather": {
          "logged": 1645040377317
        },
        "jupyter": {
          "outputs_hidden": false,
          "source_hidden": false
        },
        "nteract": {
          "transient": {
            "deleting": false
          }
        }
      },
      "outputs": [],
      "source": [
        "# Create ADL G2 or Blob Storage Client\n",
        "fs_name = \"your_file_system_or_blob_name\"\n",
        "dir_name = os.path.basename(full_file_path).split('.')[0]\n",
        "dir_name = str.lower(dir_name)\n",
        "# adl_g2_conn_str = \"your_ADL_G2_connection_string\"\n",
        "blob_conn_str = \"your_blob_connection_string\"\n",
        "# storage_client = DataLakeServiceClient.from_connection_string(adl_g2_conn_str)\n",
        "storage_client = BlobServiceClient.from_connection_string(blob_conn_str)"
      ]
    },
    {
      "cell_type": "code",
      "execution_count": null,
      "metadata": {
        "gather": {
          "logged": 1645040379711
        },
        "jupyter": {
          "outputs_hidden": false,
          "source_hidden": false
        },
        "nteract": {
          "transient": {
            "deleting": false
          }
        }
      },
      "outputs": [],
      "source": [
        "#  Create Blob Container\n",
        "def create_container(base_dir):\n",
        "    global container_client\n",
        "    try:\n",
        "        container_client = storage_client.create_container(base_dir)\n",
        "    \n",
        "    except ResourceExistsError as e:\n",
        "        # print(e)\n",
        "        container_client = storage_client.get_container_client(base_dir)\n",
        "\n",
        "create_container(fs_name)"
      ]
    },
    {
      "cell_type": "code",
      "execution_count": null,
      "metadata": {
        "gather": {
          "logged": 1644903814065
        }
      },
      "outputs": [],
      "source": [
        "# Create ADL G2 File System (base container)\n",
        "# def create_file_system(base_dir):\n",
        "#     global file_system_client\n",
        "#     try:\n",
        "\n",
        "#         file_system_client = storage_client.create_file_system(file_system=base_dir)\n",
        "    \n",
        "#     except ResourceExistsError as e:\n",
        "\n",
        "#         file_system_client = storage_client.get_file_system_client(base_dir)\n",
        "\n",
        "# # Create directory in ADL G2\n",
        "# def create_directory(target_dir):\n",
        "#     global directory_client\n",
        "#     try:\n",
        "#         directory_client = file_system_client.create_directory(target_dir)\n",
        "    \n",
        "#     except ResourceExistsError as e:\n",
        "\n",
        "#         directory_client = file_system_client.get_directory_client(target_dir)\n",
        "\n",
        "# create_file_system(fs_name)\n",
        "# create_directory(dir_name)"
      ]
    },
    {
      "cell_type": "code",
      "execution_count": null,
      "metadata": {
        "gather": {
          "logged": 1644895703160
        },
        "jupyter": {
          "outputs_hidden": true
        }
      },
      "outputs": [],
      "source": [
        "# def cap_video_file():\n",
        "vid_cap = cv2.VideoCapture(full_file_path)\n",
        "if not vid_cap.isOpened():\n",
        "    print('Cannot open file')\n",
        "\n",
        "# Capture individual frames\n",
        "while(vid_cap.isOpened()):\n",
        "    _, frame = vid_cap.read()\n",
        "    if _ == True:\n",
        "        frame_count += 1\n",
        "        # Show frame size\n",
        "        h, w = frame.shape[:2]\n",
        "        print(\"\\n\\n Frame height = {} \\n Frame width = {} \\n\\n \".format(h,w))\n",
        "        \n",
        "        # create naming structure\n",
        "        now = datetime.now()  \n",
        "        filetime = now.strftime(\"%Y%d%m%H%M%S%f\")\n",
        "        frame_num = str(frame_count).zfill(6)\n",
        "        frame_file_name = f\"Frame{frame_num}-{filetime}-raw.jpg\"\n",
        "        frame_encoded = cv2.imencode(\".jpg\", frame)[1].tobytes()\n",
        "        \n",
        "        # ADL G2 code\n",
        "        # try:\n",
        "        #     file_client = directory_client.create_file(frame_file_name)\n",
        "        #     file_client.append_data(data=frame_encoded, offset=0, length=len(frame_encoded))\n",
        "        #     file_client.flush_data(len(frame_encoded))\n",
        "        #     print(f\"Uploaded image: {frame_file_name}\")\n",
        "\n",
        "        # except Exception as e:\n",
        "        #     print(e)\n",
        "\n",
        "        # Blob code \n",
        "        try:\n",
        "            blob_client = container_client.get_blob_client(f\"{dir_name}/{frame_file_name}\")       \n",
        "            blob_client.upload_blob(frame_encoded, blob_type=\"BlockBlob\")\n",
        "            print(f\"Successfully uploaded {frame_file_name}\")\n",
        "        except Exception as e:\n",
        "            print(e)\n",
        "\n"
      ]
    }
  ],
  "metadata": {
    "interpreter": {
      "hash": "cac4749ce6e64bfd07fafd5bf9c175e86cc05b1d81ce0d05824a22ecc489c963"
    },
    "kernel_info": {
      "name": "python3-azureml"
    },
    "kernelspec": {
      "display_name": "Python 3.6 - AzureML",
      "language": "python",
      "name": "python3-azureml"
    },
    "language_info": {
      "codemirror_mode": {
        "name": "ipython",
        "version": 3
      },
      "file_extension": ".py",
      "mimetype": "text/x-python",
      "name": "python",
      "nbconvert_exporter": "python",
      "pygments_lexer": "ipython3",
      "version": "3.6.9"
    },
    "microsoft": {
      "host": {
        "AzureML": {
          "notebookHasBeenCompleted": true
        }
      }
    },
    "nteract": {
      "version": "nteract-front-end@1.0.0"
    }
  },
  "nbformat": 4,
  "nbformat_minor": 0
}
